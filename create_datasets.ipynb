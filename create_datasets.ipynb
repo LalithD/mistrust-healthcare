{
 "cells": [
  {
   "cell_type": "markdown",
   "metadata": {},
   "source": [
    "Reminder: clear all output before saving.\n",
    "\n",
    "# Table of Contents\n",
    "1. Create chartevents_trust for trust.ipynb\n",
    "2. Create code_status for outcomes_ml.ipynb\n",
    "3. Create icustay_detail to be used as input for other tables\n",
    "4. Create demographics for race_mimic_aggressive.ipynb and mistrust_mimic_aggressive.ipynb\n",
    "5. Create discharge for race_mimic_aggressive.ipynb and mistrust_mimic_aggressive.ipynb\n",
    "6. Create mortality_outcome and mortality_aggressive for outcomes_ml.ipynb and the _aggressive notebooks\n",
    "7. Create noteevents_trust for trust.ipynb"
   ]
  },
  {
   "cell_type": "code",
   "execution_count": null,
   "metadata": {},
   "outputs": [],
   "source": [
    "import gc\n",
    "import numpy as np\n",
    "import polars as pl"
   ]
  },
  {
   "cell_type": "code",
   "execution_count": null,
   "metadata": {},
   "outputs": [],
   "source": [
    "DATA_LOCATION = 'Mimic3_Data'"
   ]
  },
  {
   "cell_type": "code",
   "execution_count": null,
   "metadata": {},
   "outputs": [],
   "source": [
    "chartevents = pl.scan_csv(f'{DATA_LOCATION}/CHARTEVENTS.csv', schema_overrides={'VALUE': pl.String()}, infer_schema_length=20000, ignore_errors=True)\n",
    "chartevents = chartevents.select(['HADM_ID', 'ITEMID', 'VALUE']).unique()\n",
    "d_items = pl.scan_csv(f'{DATA_LOCATION}/D_ITEMS.csv', infer_schema_length=20000, ignore_errors=True)\n",
    "d_items = d_items.select(['ITEMID', 'LABEL']).unique()\n"
   ]
  },
  {
   "cell_type": "code",
   "execution_count": null,
   "metadata": {},
   "outputs": [],
   "source": [
    "# Read interpersonal interaction variables from chartevents\n",
    "\n",
    "relevant_labels = '''\n",
    "    Family Communication\n",
    "    Follows Commands\n",
    "    Education Barrier\n",
    "    Education Learner\n",
    "    Education Method\n",
    "    Education Readiness\n",
    "    Education Topic #1\n",
    "    Education Topic #2\n",
    "    Pain\n",
    "    Pain Level\n",
    "    Pain Level (Rest)\n",
    "    Pain Assess Method\n",
    "    Restraint\n",
    "    Restraint Type\n",
    "    Restraint (Non-violent)\n",
    "    Restraint Ordered (Non-violent)\n",
    "    Restraint Location\n",
    "    Reason For Restraint\n",
    "    Spiritual Support\n",
    "    Support Systems\n",
    "    State\n",
    "    Behavior\n",
    "    Behavioral State\n",
    "    Reason For Restraint\n",
    "    Stress\n",
    "    Safety\n",
    "    Safety Measures_U_1\n",
    "    Family\n",
    "    Patient/Family Informed\n",
    "    Pt./Family Informed\n",
    "    Health Care Proxy\n",
    "    BATH                \n",
    "    bath                \n",
    "    Bath                \n",
    "    Bed Bath            \n",
    "    bed bath            \n",
    "    bed bath            \n",
    "    Bedbath             \n",
    "    CHG Bath            \n",
    "    Skin Care           \n",
    "    Judgement           \n",
    "    Family Meeting held \n",
    "    Emotional / physical / sexual harm by partner or close relation\n",
    "    Verbal Response\n",
    "    Side Rails\n",
    "    Orientation\n",
    "    RSBI Deferred\n",
    "    Richmond-RAS Scale\n",
    "    Riker-SAS Scale\n",
    "    Status and Comfort\n",
    "    Teaching directed toward\n",
    "    Consults\n",
    "    Social work consult\n",
    "    Sitter\n",
    "    security\n",
    "    safety\n",
    "    headache\n",
    "    hairwashed\n",
    "    observer\n",
    "'''\n",
    "\n",
    "labels_only = []\n",
    "for rl in relevant_labels.split('\\n'):\n",
    "    rl = rl.strip()\n",
    "    if len(rl):\n",
    "        labels_only.append(rl)"
   ]
  },
  {
   "cell_type": "code",
   "execution_count": null,
   "metadata": {},
   "outputs": [],
   "source": [
    "# creates chartevents_trust for trust.ipynb\n",
    "d_items_trust = d_items.filter(pl.col('LABEL').str.contains_any(labels_only, ascii_case_insensitive=True))\n",
    "chartevents_trust = chartevents.join(d_items_trust, left_on='ITEMID', right_on='ITEMID', how='inner')\n",
    "chartevents_trust = chartevents_trust.select(['HADM_ID', 'LABEL', 'VALUE'])\n",
    "chartevents_trust = chartevents_trust.collect()\n",
    "display(chartevents_trust.head())\n",
    "chartevents_trust.write_parquet(f'{DATA_LOCATION}/chartevents_trust.parquet')\n",
    "del chartevents_trust\n",
    "gc.collect()"
   ]
  },
  {
   "cell_type": "code",
   "execution_count": null,
   "metadata": {},
   "outputs": [],
   "source": [
    "# creates code_status_df\n",
    "d_items_race = d_items.filter(pl.col('LABEL') == 'Code Status')\n",
    "code_status = chartevents.join(d_items_race, on='ITEMID', how='inner')\n",
    "code_status_df = code_status.collect()\n",
    "display(code_status_df.head())\n",
    "code_status_df.write_parquet(f'{DATA_LOCATION}/code_status.parquet')\n",
    "del code_status_df\n",
    "gc.collect()"
   ]
  },
  {
   "cell_type": "code",
   "execution_count": null,
   "metadata": {},
   "outputs": [],
   "source": [
    "# creates icustay_detail\n",
    "icustays = pl.scan_csv(f'{DATA_LOCATION}/ICUSTAYS.csv').select(['SUBJECT_ID', 'HADM_ID', 'ICUSTAY_ID', 'INTIME', 'OUTTIME'])\n",
    "admissions = pl.scan_csv(f'{DATA_LOCATION}/ADMISSIONS.csv').select(['HADM_ID', 'ETHNICITY', 'HAS_CHARTEVENTS_DATA'])\n",
    "patients = pl.scan_csv(f'{DATA_LOCATION}/PATIENTS.csv').select(['SUBJECT_ID', 'GENDER', 'DOB'])\n",
    "\n",
    "icustay_detail = (\n",
    "    icustays\n",
    "    .join(admissions, left_on='HADM_ID', right_on='HADM_ID', how='inner')\n",
    "    .join(patients, left_on='SUBJECT_ID', right_on='SUBJECT_ID', how='inner')\n",
    "    .filter(pl.col('HAS_CHARTEVENTS_DATA') == 1)\n",
    "    .select([\n",
    "        'SUBJECT_ID',\n",
    "        'HADM_ID',\n",
    "        'ICUSTAY_ID',\n",
    "        'GENDER',\n",
    "        'ETHNICITY',\n",
    "        'INTIME',\n",
    "        'OUTTIME',\n",
    "        'DOB'\n",
    "    ])\n",
    ")\n",
    "icustay_detail = icustay_detail.with_columns(pl.col('INTIME').str.to_date('%Y-%m-%d %H:%M:%S'))\n",
    "icustay_detail = icustay_detail.with_columns(pl.col('OUTTIME').str.to_date('%Y-%m-%d %H:%M:%S'))\n",
    "icustay_detail = icustay_detail.with_columns(pl.col('DOB').str.to_date('%Y-%m-%d %H:%M:%S'))\n",
    "icustay_detail_df = icustay_detail.collect()\n",
    "icustay_detail_df = icustay_detail_df.with_columns(\n",
    "    ((pl.col('INTIME').cast(pl.Datetime) - pl.col('DOB').cast(pl.Datetime)).dt.total_days() / 365.25)\n",
    "    .floor()\n",
    "    .clip(0, 90) # ages above 89 are obfuscated, so just keep them at 90\n",
    "    .alias('AGE')\n",
    ")\n",
    "display(icustay_detail_df.head())\n",
    "icustay_detail_df.write_parquet(f'{DATA_LOCATION}/icustay_detail.parquet')\n",
    "del icustay_detail_df\n",
    "gc.collect()"
   ]
  },
  {
   "cell_type": "code",
   "execution_count": null,
   "metadata": {},
   "outputs": [],
   "source": [
    "# creates demographics_df\n",
    "demographics = pl.scan_parquet(f'{DATA_LOCATION}/icustay_detail.parquet').select(['SUBJECT_ID', 'HADM_ID', 'GENDER', 'ETHNICITY', 'AGE']).unique()\n",
    "demographics = demographics.collect()\n",
    "display(demographics.head())\n",
    "demographics.write_parquet(f'{DATA_LOCATION}/demographics.parquet')\n",
    "del demographics\n",
    "gc.collect()"
   ]
  },
  {
   "cell_type": "code",
   "execution_count": null,
   "metadata": {},
   "outputs": [],
   "source": [
    "# creates discharge_df\n",
    "discharge = pl.scan_csv(f'{DATA_LOCATION}/ADMISSIONS.csv').select(['SUBJECT_ID', 'HADM_ID', 'ETHNICITY', 'DISCHARGE_LOCATION', 'ADMITTIME', 'DISCHTIME']).unique()\n",
    "discharge = discharge.collect()\n",
    "display(discharge.head())\n",
    "discharge.write_parquet(f'{DATA_LOCATION}/discharge.parquet')\n",
    "del discharge\n",
    "gc.collect()"
   ]
  },
  {
   "cell_type": "code",
   "execution_count": null,
   "metadata": {},
   "outputs": [],
   "source": [
    "# creates mortality_outcomes for outcomes_ml.ipynb\n",
    "mortality_outcomes = pl.scan_csv(f'{DATA_LOCATION}/ADMISSIONS.csv').select(['HADM_ID', 'HOSPITAL_EXPIRE_FLAG']).unique()\n",
    "mortality_outcomes = mortality_outcomes.collect()\n",
    "display(mortality_outcomes.head())\n",
    "mortality_outcomes.write_parquet(f'{DATA_LOCATION}/mortality_outcomes.parquet')\n",
    "del mortality_outcomes\n",
    "gc.collect()\n",
    "\n",
    "# creates mortality_aggressive for other notebooks\n",
    "mortality_aggressive = pl.scan_csv(f'{DATA_LOCATION}/PATIENTS.csv').select(['SUBJECT_ID', 'DOD']).unique()\n",
    "mortality_aggressive = mortality_aggressive.collect()\n",
    "display(mortality_aggressive.head())\n",
    "mortality_aggressive.write_parquet(f'{DATA_LOCATION}/mortality_aggressive.parquet')\n",
    "del mortality_aggressive\n",
    "gc.collect()"
   ]
  },
  {
   "cell_type": "code",
   "execution_count": null,
   "metadata": {},
   "outputs": [],
   "source": [
    "# creates noteevents_trust for trust.ipynb\n",
    "noteevents_trust = pl.scan_csv(f'{DATA_LOCATION}/NOTEEVENTS.csv', schema_overrides={'TEXT': pl.String()}, infer_schema_length=20000, ignore_errors=True)\n",
    "noteevents_trust = noteevents_trust.select(['HADM_ID', 'CATEGORY', 'TEXT', 'CHARTDATE', 'CHARTTIME', 'ISERROR'])\n",
    "noteevents_trust = noteevents_trust.filter(pl.col('ISERROR').is_null())\n",
    "noteevents_trust = noteevents_trust.collect()\n",
    "display(noteevents_trust.head())\n",
    "noteevents_trust.write_parquet(f'{DATA_LOCATION}/noteevents_trust.parquet')\n",
    "del noteevents_trust\n",
    "gc.collect()"
   ]
  },
  {
   "cell_type": "code",
   "execution_count": null,
   "metadata": {},
   "outputs": [],
   "source": []
  }
 ],
 "metadata": {
  "kernelspec": {
   "display_name": "dlh_env",
   "language": "python",
   "name": "python3"
  },
  "language_info": {
   "codemirror_mode": {
    "name": "ipython",
    "version": 3
   },
   "file_extension": ".py",
   "mimetype": "text/x-python",
   "name": "python",
   "nbconvert_exporter": "python",
   "pygments_lexer": "ipython3",
   "version": "3.13.2"
  }
 },
 "nbformat": 4,
 "nbformat_minor": 2
}
