{
 "cells": [
  {
   "cell_type": "markdown",
   "metadata": {},
   "source": [
    "# Table of Contents\n",
    "1. Create chartevents_trust for trust.ipynb\n",
    "2. Create noteevents_trust for trust.ipynb"
   ]
  },
  {
   "cell_type": "code",
   "execution_count": null,
   "metadata": {},
   "outputs": [],
   "source": [
    "import gc\n",
    "import numpy as np\n",
    "import polars as pl"
   ]
  },
  {
   "cell_type": "code",
   "execution_count": null,
   "metadata": {},
   "outputs": [],
   "source": [
    "DATA_LOCATION = 'Mimic3_Data'"
   ]
  },
  {
   "cell_type": "code",
   "execution_count": null,
   "metadata": {},
   "outputs": [],
   "source": [
    "chartevents = pl.scan_csv(f'{DATA_LOCATION}/CHARTEVENTS.csv', schema_overrides={'VALUE': pl.String()}, infer_schema_length=20000, ignore_errors=True)\n",
    "chartevents = chartevents.select(['HADM_ID', 'ITEMID', 'VALUE']).unique()\n",
    "d_items = pl.scan_csv(f'{DATA_LOCATION}/D_ITEMS.csv', infer_schema_length=20000, ignore_errors=True)\n",
    "d_items = d_items.select(['ITEMID', 'LABEL']).unique()\n"
   ]
  },
  {
   "cell_type": "code",
   "execution_count": null,
   "metadata": {},
   "outputs": [],
   "source": [
    "# Read interpersonal interaction variables from chartevents\n",
    "\n",
    "relevant_labels = '''\n",
    "    Family Communication\n",
    "    Follows Commands\n",
    "    Education Barrier\n",
    "    Education Learner\n",
    "    Education Method\n",
    "    Education Readiness\n",
    "    Education Topic #1\n",
    "    Education Topic #2\n",
    "    Pain\n",
    "    Pain Level\n",
    "    Pain Level (Rest)\n",
    "    Pain Assess Method\n",
    "    Restraint\n",
    "    Restraint Type\n",
    "    Restraint (Non-violent)\n",
    "    Restraint Ordered (Non-violent)\n",
    "    Restraint Location\n",
    "    Reason For Restraint\n",
    "    Spiritual Support\n",
    "    Support Systems\n",
    "    State\n",
    "    Behavior\n",
    "    Behavioral State\n",
    "    Reason For Restraint\n",
    "    Stress\n",
    "    Safety\n",
    "    Safety Measures_U_1\n",
    "    Family\n",
    "    Patient/Family Informed\n",
    "    Pt./Family Informed\n",
    "    Health Care Proxy\n",
    "    BATH                \n",
    "    bath                \n",
    "    Bath                \n",
    "    Bed Bath            \n",
    "    bed bath            \n",
    "    bed bath            \n",
    "    Bedbath             \n",
    "    CHG Bath            \n",
    "    Skin Care           \n",
    "    Judgement           \n",
    "    Family Meeting held \n",
    "    Emotional / physical / sexual harm by partner or close relation\n",
    "    Verbal Response\n",
    "    Side Rails\n",
    "    Orientation\n",
    "    RSBI Deferred\n",
    "    Richmond-RAS Scale\n",
    "    Riker-SAS Scale\n",
    "    Status and Comfort\n",
    "    Teaching directed toward\n",
    "    Consults\n",
    "    Social work consult\n",
    "    Sitter\n",
    "    security\n",
    "    safety\n",
    "    headache\n",
    "    hairwashed\n",
    "    observer\n",
    "'''\n",
    "\n",
    "labels_only = []\n",
    "for rl in relevant_labels.split('\\n'):\n",
    "    rl = rl.strip()\n",
    "    if len(rl):\n",
    "        labels_only.append(rl)"
   ]
  },
  {
   "cell_type": "code",
   "execution_count": null,
   "metadata": {},
   "outputs": [],
   "source": [
    "# creates chartevents_trust for trust.ipynb\n",
    "d_items_trust = d_items.filter(pl.col('LABEL').str.contains_any(labels_only, ascii_case_insensitive=True))\n",
    "chartevents_trust = chartevents.join(d_items_trust, left_on='ITEMID', right_on='ITEMID', how='inner')\n",
    "chartevents_trust = chartevents_trust.select(['HADM_ID', 'LABEL', 'VALUE'])\n",
    "chartevents_trust = chartevents_trust.collect()\n",
    "display(chartevents_trust.head())\n",
    "chartevents_trust.write_parquet(f'{DATA_LOCATION}/chartevents_trust.parquet')\n",
    "del chartevents_trust\n",
    "gc.collect()"
   ]
  },
  {
   "cell_type": "code",
   "execution_count": null,
   "metadata": {},
   "outputs": [],
   "source": [
    "# creates noteevents_trust for trust.ipynb\n",
    "noteevents_trust = pl.scan_csv(f'{DATA_LOCATION}/NOTEEVENTS.csv', schema_overrides={'TEXT': pl.String()}, infer_schema_length=20000, ignore_errors=True)\n",
    "noteevents_trust = noteevents_trust.select(['HADM_ID', 'CATEGORY', 'TEXT', 'CHARTDATE', 'CHARTTIME', 'ISERROR'])\n",
    "noteevents_trust = noteevents_trust.filter(pl.col('ISERROR').is_null())\n",
    "noteevents_trust = noteevents_trust.collect()\n",
    "display(noteevents_trust.head())\n",
    "noteevents_trust.write_parquet(f'{DATA_LOCATION}/noteevents_trust.parquet')\n",
    "del noteevents_trust\n",
    "gc.collect()"
   ]
  },
  {
   "cell_type": "code",
   "execution_count": null,
   "metadata": {},
   "outputs": [],
   "source": []
  }
 ],
 "metadata": {
  "kernelspec": {
   "display_name": "dlh_env",
   "language": "python",
   "name": "python3"
  },
  "language_info": {
   "codemirror_mode": {
    "name": "ipython",
    "version": 3
   },
   "file_extension": ".py",
   "mimetype": "text/x-python",
   "name": "python",
   "nbconvert_exporter": "python",
   "pygments_lexer": "ipython3",
   "version": "3.13.2"
  }
 },
 "nbformat": 4,
 "nbformat_minor": 2
}
