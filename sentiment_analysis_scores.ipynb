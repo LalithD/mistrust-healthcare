{
 "cells": [
  {
   "cell_type": "code",
   "execution_count": 1,
   "metadata": {},
   "outputs": [],
   "source": [
    "import pandas as pd\n",
    "from vaderSentiment.vaderSentiment import SentimentIntensityAnalyzer\n",
    "import numpy as np\n",
    "import pickle, time"
   ]
  },
  {
   "cell_type": "code",
   "execution_count": 2,
   "metadata": {},
   "outputs": [],
   "source": [
    "DATA_LOCATION = 'Mimic3_Data'"
   ]
  },
  {
   "cell_type": "code",
   "execution_count": 34,
   "metadata": {},
   "outputs": [
    {
     "name": "stdout",
     "output_type": "stream",
     "text": [
      "(59652, 2)\n"
     ]
    }
   ],
   "source": [
    "df = pd.read_parquet(f'{DATA_LOCATION}/notes_sentiment_extract.parquet')\n",
    "print(df.shape)"
   ]
  },
  {
   "cell_type": "code",
   "execution_count": null,
   "metadata": {},
   "outputs": [
    {
     "name": "stdout",
     "output_type": "stream",
     "text": [
      "DONE!ssed 59600 rows in 79 min 15.4 sec\n"
     ]
    }
   ],
   "source": [
    "analyzer = SentimentIntensityAnalyzer()\n",
    "\n",
    "sentiments = {}\n",
    "\n",
    "start = time.time()\n",
    "count = 0\n",
    "for _, row in df.iterrows():\n",
    "    hadm_id = row['HADM_ID']\n",
    "    text = row['TEXT']\n",
    "    count += 1\n",
    "    if count % 100 == 0:\n",
    "        time_elapsed = time.time() - start\n",
    "        print(f'Processed {count} rows in {int(time_elapsed/60)} min {time_elapsed-60*int(time_elapsed/60):.1f} sec', end='\\r', flush=True)\n",
    "    \n",
    "    sentiment_score = analyzer.polarity_scores(text)['compound']\n",
    "    sentiments[hadm_id] = sentiment_score\n",
    "\n",
    "scores = np.array(list(sentiments.values()))\n",
    "mu = scores.mean()\n",
    "std = scores.std()\n",
    "\n",
    "standardized_sentiments = {k: (v - mu) / std for k, v in sentiments.items()}\n",
    "\n",
    "#with open('neg_sentiment.pkl', 'wb') as f:\n",
    "#    pickle.dump(standardized_sentiments, f)\n",
    "\n",
    "print('DONE!')"
   ]
  },
  {
   "cell_type": "code",
   "execution_count": 38,
   "metadata": {},
   "outputs": [],
   "source": [
    "pd.DataFrame(standardized_sentiments.items(), columns=['HADM_ID', 'SENTIMENT']).to_parquet(f'{DATA_LOCATION}/notes_sentiment_scored.parquet')"
   ]
  },
  {
   "cell_type": "code",
   "execution_count": null,
   "metadata": {},
   "outputs": [],
   "source": []
  }
 ],
 "metadata": {
  "kernelspec": {
   "display_name": "dlh_env",
   "language": "python",
   "name": "python3"
  },
  "language_info": {
   "codemirror_mode": {
    "name": "ipython",
    "version": 3
   },
   "file_extension": ".py",
   "mimetype": "text/x-python",
   "name": "python",
   "nbconvert_exporter": "python",
   "pygments_lexer": "ipython3",
   "version": "3.13.2"
  }
 },
 "nbformat": 4,
 "nbformat_minor": 2
}
